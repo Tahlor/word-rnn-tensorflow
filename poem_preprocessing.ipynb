{
 "cells": [
  {
   "cell_type": "code",
   "execution_count": 1,
   "metadata": {
    "collapsed": true
   },
   "outputs": [],
   "source": [
    "import string\n",
    "import re"
   ]
  },
  {
   "cell_type": "code",
   "execution_count": null,
   "metadata": {
    "collapsed": true
   },
   "outputs": [],
   "source": []
  },
  {
   "cell_type": "code",
   "execution_count": 2,
   "metadata": {
    "collapsed": true
   },
   "outputs": [],
   "source": [
    "def process(filename, outname):\n",
    "    f = open(filename, 'r')\n",
    "    lines = f.readlines()\n",
    "    f.close()\n",
    "    \n",
    "    o = open(outname, 'w')\n",
    "    \n",
    "    for l in lines:\n",
    "        wrds = l.split()\n",
    "        for wrd in wrds:\n",
    "            # skip if all capital\n",
    "            if wrd.isupper() and len(wrd) > 1:\n",
    "                continue\n",
    "                \n",
    "            # skip if contains _ * etc\n",
    "            if '*' in wrd:# or '_' in wrd:\n",
    "                continue\n",
    "                \n",
    "            if '_' in wrd:\n",
    "                wrd = wrd.replace('_', '')\n",
    "            \n",
    "            # skip if is digit\n",
    "            if '1' in wrd or '2' in wrd or '3' in wrd or '4' in wrd or '5' in wrd or '6' in wrd or '7' in wrd or '8' in wrd or '9' in wrd or '0' in wrd:\n",
    "                continue\n",
    "                \n",
    "            # check in dictionary\n",
    "            # Future, maybe train own embedding model so we have all our own words.  dont learn patchy english\n",
    "            \n",
    "            # strip of punctuation\n",
    "#             wrd = wrd.translate(None, string.punctuation)\n",
    "            wrd = re.sub(r'[^\\w\\s]','',wrd)\n",
    "            \n",
    "            # write word to out file\n",
    "            o.write('{} '.format(wrd))\n",
    "            \n",
    "            \n",
    "        o.write('\\n')\n",
    "    \n",
    "    o.close()\n",
    "    "
   ]
  },
  {
   "cell_type": "code",
   "execution_count": 3,
   "metadata": {
    "collapsed": true
   },
   "outputs": [],
   "source": [
    "process('data/poems2.txt', 'data/poems2_processed.txt')"
   ]
  },
  {
   "cell_type": "code",
   "execution_count": 58,
   "metadata": {
    "collapsed": true
   },
   "outputs": [],
   "source": [
    "w = 'pathalal'"
   ]
  },
  {
   "cell_type": "code",
   "execution_count": 59,
   "metadata": {},
   "outputs": [
    {
     "data": {
      "text/plain": [
       "'pbthblbl'"
      ]
     },
     "execution_count": 59,
     "metadata": {},
     "output_type": "execute_result"
    }
   ],
   "source": [
    "w.replace('a', 'b')"
   ]
  },
  {
   "cell_type": "code",
   "execution_count": 60,
   "metadata": {},
   "outputs": [
    {
     "data": {
      "text/plain": [
       "'pathalal'"
      ]
     },
     "execution_count": 60,
     "metadata": {},
     "output_type": "execute_result"
    }
   ],
   "source": [
    "w"
   ]
  },
  {
   "cell_type": "code",
   "execution_count": null,
   "metadata": {
    "collapsed": true
   },
   "outputs": [],
   "source": []
  }
 ],
 "metadata": {
  "kernelspec": {
   "display_name": "Python 3",
   "language": "python",
   "name": "python3"
  },
  "language_info": {
   "codemirror_mode": {
    "name": "ipython",
    "version": 3
   },
   "file_extension": ".py",
   "mimetype": "text/x-python",
   "name": "python",
   "nbconvert_exporter": "python",
   "pygments_lexer": "ipython3",
   "version": "3.6.1"
  }
 },
 "nbformat": 4,
 "nbformat_minor": 2
}
